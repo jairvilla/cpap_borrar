{
 "cells": [
  {
   "cell_type": "markdown",
   "metadata": {},
   "source": [
    "VSC TO Git hub\n",
    "Esto es un codigo de prueba!!!"
   ]
  },
  {
   "cell_type": "code",
   "execution_count": 2,
   "metadata": {},
   "outputs": [
    {
     "name": "stdout",
     "output_type": "stream",
     "text": [
      "-3\n"
     ]
    }
   ],
   "source": [
    "a = 3\n",
    "r = 4 -5\n",
    "co = a * r\n",
    "print(co)"
   ]
  }
 ],
 "metadata": {
  "interpreter": {
   "hash": "2187e60aea5701b40e80e4384ec9beb69f7edc9dfddc5d945d75eb1af52f1d4e"
  },
  "kernelspec": {
   "display_name": "Python 3.10.0 64-bit",
   "language": "python",
   "name": "python3"
  },
  "language_info": {
   "codemirror_mode": {
    "name": "ipython",
    "version": 3
   },
   "file_extension": ".py",
   "mimetype": "text/x-python",
   "name": "python",
   "nbconvert_exporter": "python",
   "pygments_lexer": "ipython3",
   "version": "3.10.0"
  },
  "orig_nbformat": 4
 },
 "nbformat": 4,
 "nbformat_minor": 2
}
